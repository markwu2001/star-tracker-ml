{
 "cells": [
  {
   "cell_type": "markdown",
   "metadata": {},
   "source": [
    "## ML Dataset Generation Pipeline ##\n"
   ]
  },
  {
   "cell_type": "markdown",
   "metadata": {},
   "source": [
    "Run this entire notebook after Stellarium Image Generation"
   ]
  },
  {
   "cell_type": "code",
   "execution_count": 7,
   "metadata": {},
   "outputs": [],
   "source": [
    "# Imports\n",
    "import sys\n",
    "import os\n",
    "# sys.path.append(os.path.join(os.getcwd(), '..'))\n",
    "import algorithms.centroid as ct\n",
    "import scripts.synthetic as syn\n",
    "# import algorithms.centroid_test as ctt\n",
    "import scripts.dataset_feature_extraction as ft\n",
    "from PIL import Image\n",
    "import csv\n",
    "import random\n",
    "import shutil\n"
   ]
  },
  {
   "cell_type": "markdown",
   "metadata": {},
   "source": [
    "### Hyperperameters and Settings ##"
   ]
  },
  {
   "cell_type": "code",
   "execution_count": 8,
   "metadata": {},
   "outputs": [],
   "source": [
    "# File Paths\n",
    "synthetic_image_set_dir = \"images_data/mag5_1608_47deg_gray/\"                               # <-- Configure together\n",
    "file_descript = \"mag5_1608_47deg\"     # Magnitude of stars, num classes, camera fov         # <-- Configure together\n",
    "\n",
    "# Camera Model\n",
    "sensor_x = 502\n",
    "sensor_y = 752\n",
    "\n",
    "# Synthetic Error Model Parameters\n",
    "false_stars = 10\n",
    "positional_sigma_all_stars = 0.01\n",
    "positional_sigma_single_star = 0.0001\n",
    "synthetic_cases = 40           # How much noisy training data to generate per true star\n",
    "\n",
    "# Feature Extraction Method\n",
    "feature_extract_method = \"binning\" # \"binning\" or \"angle_proximity\""
   ]
  },
  {
   "cell_type": "markdown",
   "metadata": {},
   "source": [
    "### Centroid Extraction ###"
   ]
  },
  {
   "cell_type": "code",
   "execution_count": 9,
   "metadata": {},
   "outputs": [],
   "source": [
    "# Keep unexpanded in jupityer. Function definition\n",
    "def centroid_sources_to_dataset(file_path):\n",
    "    if not os.path.exists(file_path + \"/centroids\"):\n",
    "        os.makedirs(file_path + \"/centroids\")\n",
    "\n",
    "    # Open folder and read all images\n",
    "    for file in os.listdir(file_path):\n",
    "        if file.endswith(\".png\"):\n",
    "            img = Image.open(file_path + file)\n",
    "            # print(file_path + file)\n",
    "            # Calculate centroids for each image\n",
    "            sources = ct.centroids_from_img(img)\n",
    "\n",
    "            # Initialize empty csv file\n",
    "            csv_file = open(file_path + \"/centroids/\" + file.strip('.png') + '_centroids_no_adverserial.csv', 'w', newline='')\n",
    "            csv_writer = csv.writer(csv_file)\n",
    "            csv_writer.writerow(['x_centroid', 'y_centroid'])\n",
    "            # Append centroids to a dataset\n",
    "            for source in sources:\n",
    "                csv_writer.writerow([source['xcentroid'], source['ycentroid']])\n",
    "            # Save dataset to a file\n",
    "            csv_file.close()\n",
    "    return "
   ]
  },
  {
   "cell_type": "code",
   "execution_count": 10,
   "metadata": {},
   "outputs": [],
   "source": [
    "centroid_sources_to_dataset(synthetic_image_set_dir) # Creates a subdirectory to the synthetic image set directory called \"centroids\"\n"
   ]
  },
  {
   "cell_type": "markdown",
   "metadata": {},
   "source": [
    "### Synthetic Error Model ###"
   ]
  },
  {
   "cell_type": "code",
   "execution_count": 11,
   "metadata": {},
   "outputs": [],
   "source": [
    "# Copies centroids to synthetic folder\n",
    "if not os.path.exists(synthetic_image_set_dir + 'centroids_synthetic/'):\n",
    "    os.makedirs(synthetic_image_set_dir + 'centroids_synthetic/')\n",
    "else: \n",
    "    shutil.rmtree(synthetic_image_set_dir + 'centroids_synthetic/')\n",
    "    os.makedirs(synthetic_image_set_dir + 'centroids_synthetic/')\n",
    "\n",
    "for file in os.listdir(synthetic_image_set_dir + '/centroids/'):\n",
    "    shutil.copy(synthetic_image_set_dir + 'centroids/' + file, synthetic_image_set_dir + 'centroids_synthetic/') \n",
    "\n",
    "syn.apply_adverserial_false_stars(synthetic_image_set_dir + 'centroids_synthetic/', sensor_x, sensor_y, synthetic_cases)\n",
    "syn.apply_adverserial_positional_error(synthetic_image_set_dir + 'centroids_synthetic/', sensor_x, sensor_y, positional_sigma_all_stars, positional_sigma_single_star)"
   ]
  },
  {
   "cell_type": "markdown",
   "metadata": {},
   "source": [
    "### Rotationally Invariant Feature Extraction ###"
   ]
  },
  {
   "cell_type": "code",
   "execution_count": 12,
   "metadata": {},
   "outputs": [
    {
     "name": "stdout",
     "output_type": "stream",
     "text": [
      "Completed!\n",
      "Dataset Generation Complete, Filepath for model generation: \n",
      " ../images_data/mag5_1608_47deg_gray/bins/mag5_1608_47deg_bin_features.csv\n"
     ]
    }
   ],
   "source": [
    "if feature_extract_method == \"binning\":\n",
    "    # TODO: fix binning_feature_extraction to not hardcode bin sizes and also expose window sizes and bin sizes\n",
    "    ft.binning_feature_extraction(synthetic_image_set_dir + '/centroids_synthetic/', synthetic_image_set_dir + '/bins/', file_descript + '_bin_features.csv') # Create single csv with features and labels\n",
    "elif feature_extract_method == \"angle_proximity\":\n",
    "    pass\n",
    "\n",
    "print(\"Dataset Generation Complete, Filepath for model generation: \\n\", \"../\" + synthetic_image_set_dir + 'bins/' + file_descript + '_bin_features.csv')"
   ]
  }
 ],
 "metadata": {
  "kernelspec": {
   "display_name": "Python 3",
   "language": "python",
   "name": "python3"
  },
  "language_info": {
   "codemirror_mode": {
    "name": "ipython",
    "version": 3
   },
   "file_extension": ".py",
   "mimetype": "text/x-python",
   "name": "python",
   "nbconvert_exporter": "python",
   "pygments_lexer": "ipython3",
   "version": "3.10.12"
  }
 },
 "nbformat": 4,
 "nbformat_minor": 2
}
