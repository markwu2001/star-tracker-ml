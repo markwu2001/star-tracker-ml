{
 "cells": [
  {
   "cell_type": "code",
   "execution_count": 1,
   "metadata": {},
   "outputs": [
    {
     "name": "stderr",
     "output_type": "stream",
     "text": [
      "2024-07-07 14:27:21.884653: E external/local_xla/xla/stream_executor/cuda/cuda_fft.cc:479] Unable to register cuFFT factory: Attempting to register factory for plugin cuFFT when one has already been registered\n",
      "2024-07-07 14:27:21.978403: E external/local_xla/xla/stream_executor/cuda/cuda_dnn.cc:10575] Unable to register cuDNN factory: Attempting to register factory for plugin cuDNN when one has already been registered\n",
      "2024-07-07 14:27:21.978888: E external/local_xla/xla/stream_executor/cuda/cuda_blas.cc:1442] Unable to register cuBLAS factory: Attempting to register factory for plugin cuBLAS when one has already been registered\n",
      "2024-07-07 14:27:22.081925: I tensorflow/core/platform/cpu_feature_guard.cc:210] This TensorFlow binary is optimized to use available CPU instructions in performance-critical operations.\n",
      "To enable the following instructions: AVX2 FMA, in other operations, rebuild TensorFlow with the appropriate compiler flags.\n",
      "2024-07-07 14:27:23.085556: W tensorflow/compiler/tf2tensorrt/utils/py_utils.cc:38] TF-TRT Warning: Could not find TensorRT\n"
     ]
    }
   ],
   "source": [
    "# Run inference from a sample image \n",
    "\n",
    "# image_filepath = \"../images_data/test_images/noisy_image.jpg\" # Noisy Test Image\n",
    "image_filepath = \"../images_data/dslr_night_images_gray/focused_star_dsc0014_752x502_gray.png\" # Night Sky Image\n",
    "# image_filepath = \"../images_data/mag5_1608_47deg_gray/122001.png\"\n",
    "# image_filepath = \"../images_data/mag5_1608_47deg_gray/11345001.png\" # Star with least stars in frame (106 other stars)\n",
    "model_filepath = \"../ml/models/mag5_1608_47deg_64_128_100epoch.keras\"\n",
    "\n",
    "bin_count = 10\n",
    "bin_max_radius = 400\n",
    "\n",
    "import os\n",
    "import sys\n",
    "import csv\n",
    "import tensorflow as tf\n",
    "import pandas as pd\n",
    "import numpy as np\n",
    "from PIL import Image\n",
    "from photutils.centroids import centroid_sources\n",
    "from astropy.stats import sigma_clipped_stats\n",
    "from astropy.io import fits\n",
    "from photutils.detection import DAOStarFinder\n",
    "from sklearn.preprocessing import LabelEncoder\n",
    "\n",
    "import matplotlib.pyplot as plt\n",
    "from astropy.visualization import SqrtStretch\n",
    "from astropy.visualization.mpl_normalize import ImageNormalize\n",
    "from photutils.aperture import CircularAperture\n",
    "\n",
    "sys.path.append(os.path.join(os.getcwd(), '..', 'algorithms'))\n",
    "import centroid as ct\n",
    "import feature_extraction as bin"
   ]
  },
  {
   "cell_type": "code",
   "execution_count": 2,
   "metadata": {},
   "outputs": [
    {
     "ename": "FileNotFoundError",
     "evalue": "[Errno 2] No such file or directory: '/home/mark/GitHub/star-tracker-ml/images_data/dslr_night_images_gray/focused_star_dsc0014_752x502_gray.png'",
     "output_type": "error",
     "traceback": [
      "\u001b[0;31m---------------------------------------------------------------------------\u001b[0m",
      "\u001b[0;31mFileNotFoundError\u001b[0m                         Traceback (most recent call last)",
      "Cell \u001b[0;32mIn[2], line 5\u001b[0m\n\u001b[1;32m      3\u001b[0m centroids \u001b[38;5;241m=\u001b[39m []\n\u001b[1;32m      4\u001b[0m bins \u001b[38;5;241m=\u001b[39m []\n\u001b[0;32m----> 5\u001b[0m img \u001b[38;5;241m=\u001b[39m \u001b[43mImage\u001b[49m\u001b[38;5;241;43m.\u001b[39;49m\u001b[43mopen\u001b[49m\u001b[43m(\u001b[49m\u001b[43mimage_filepath\u001b[49m\u001b[43m)\u001b[49m\n\u001b[1;32m      7\u001b[0m \u001b[38;5;66;03m# Calculate centroids for each image\u001b[39;00m\n\u001b[1;32m      8\u001b[0m centroids \u001b[38;5;241m=\u001b[39m ct\u001b[38;5;241m.\u001b[39mcentroids_from_img(img)\n",
      "File \u001b[0;32m~/.local/lib/python3.10/site-packages/PIL/Image.py:3431\u001b[0m, in \u001b[0;36mopen\u001b[0;34m(fp, mode, formats)\u001b[0m\n\u001b[1;32m   3428\u001b[0m     filename \u001b[38;5;241m=\u001b[39m os\u001b[38;5;241m.\u001b[39mpath\u001b[38;5;241m.\u001b[39mrealpath(os\u001b[38;5;241m.\u001b[39mfspath(fp))\n\u001b[1;32m   3430\u001b[0m \u001b[38;5;28;01mif\u001b[39;00m filename:\n\u001b[0;32m-> 3431\u001b[0m     fp \u001b[38;5;241m=\u001b[39m \u001b[43mbuiltins\u001b[49m\u001b[38;5;241;43m.\u001b[39;49m\u001b[43mopen\u001b[49m\u001b[43m(\u001b[49m\u001b[43mfilename\u001b[49m\u001b[43m,\u001b[49m\u001b[43m \u001b[49m\u001b[38;5;124;43m\"\u001b[39;49m\u001b[38;5;124;43mrb\u001b[39;49m\u001b[38;5;124;43m\"\u001b[39;49m\u001b[43m)\u001b[49m\n\u001b[1;32m   3432\u001b[0m     exclusive_fp \u001b[38;5;241m=\u001b[39m \u001b[38;5;28;01mTrue\u001b[39;00m\n\u001b[1;32m   3433\u001b[0m \u001b[38;5;28;01melse\u001b[39;00m:\n",
      "\u001b[0;31mFileNotFoundError\u001b[0m: [Errno 2] No such file or directory: '/home/mark/GitHub/star-tracker-ml/images_data/dslr_night_images_gray/focused_star_dsc0014_752x502_gray.png'"
     ]
    }
   ],
   "source": [
    "\n",
    "np.set_printoptions(threshold=sys.maxsize)\n",
    "\n",
    "centroids = []\n",
    "bins = []\n",
    "img = Image.open(image_filepath)\n",
    "\n",
    "# Calculate centroids for each image\n",
    "centroids = ct.centroids_from_img(img)\n",
    "centroids = centroids['xcentroid', 'ycentroid']\n",
    "# print(\"Centroids: \", centroids)\n",
    "\n",
    "# Binning Feature Extraction\n",
    "bins = bin.feature_extraction_binning(centroids, 752, 480, bin_max_radius, bin_count)\n",
    "\n",
    "# loaded_model = tf.saved_model.load(model_filepath)\n",
    "loaded_model = tf.keras.models.load_model(model_filepath)\n",
    "print(\"\\nLoaded Model\\n\")\n",
    "\n",
    "bins = np.array(bins)\n",
    "reshaped_bins = bins.reshape(-1,10)\n",
    "print(\"Reshaped Bins: \", reshaped_bins)\n",
    "\n",
    "predictions = loaded_model(reshaped_bins)\n",
    "# print(\"Predictions: \", predictions)\n",
    "print(\"Prediction Confidence: \", np.max(predictions),\"\\n\") \n",
    "\n",
    "# sorted_predictions = np.sort(predictions) \n",
    "# print(\"Top 3 Predictions: \", sorted_predictions[-3:])\n",
    "\n",
    "# TODO: Figure out labels\n",
    "\n",
    "\n",
    "temp_y_label_source = \"../images_data/mag5_1608_47deg_gray/bins/mag5_1608_47deg_bin_features.csv\"\n",
    "# TODO: read the header instead of hardcoding it\n",
    "dataframe = pd.read_csv(temp_y_label_source, header=0, names=[\"HIP\", \"bin0\", \"bin1\", \"bin2\", \"bin3\", \"bin4\", \"bin5\", \"bin6\", \"bin7\", \"bin8\", \"bin9\"])\n",
    "dataset = dataframe.values\n",
    "Y = dataset[:,0].astype(int)\n",
    "encoder = LabelEncoder()\n",
    "encoder.fit(Y)\n",
    "\n",
    "print(\"Prediction Index: \", predictions.numpy().argmax())\n",
    "print(\"Label: \", encoder.classes_[predictions.numpy().argmax()])\n",
    "\n",
    "# encoded_predictions = np.zeros(len(predictions.numpy().flatten())).astype(int)\n",
    "# encoded_predictions[predictions.numpy().argmax()] = 1\n",
    "# print(\"Encoded Predictions: \",encoded_predictions)\n",
    "\n",
    "# label = encoder.inverse_transform(encoded_predictions)\n",
    "# print(\"Label: \", label)"
   ]
  }
 ],
 "metadata": {
  "kernelspec": {
   "display_name": "Python 3",
   "language": "python",
   "name": "python3"
  },
  "language_info": {
   "codemirror_mode": {
    "name": "ipython",
    "version": 3
   },
   "file_extension": ".py",
   "mimetype": "text/x-python",
   "name": "python",
   "nbconvert_exporter": "python",
   "pygments_lexer": "ipython3",
   "version": "3.10.12"
  }
 },
 "nbformat": 4,
 "nbformat_minor": 2
}
