{
 "cells": [
  {
   "cell_type": "code",
   "execution_count": 13,
   "metadata": {},
   "outputs": [],
   "source": [
    "# Run inference from a sample image \n",
    "\n",
    "# image_filepath = \"../images_data/mag5_1608_no_adverserial_gray/122001.png\"\n",
    "image_filepath = \"../images_data/mag5_1608_no_adverserial_gray/4147001.png\"\n",
    "model_filepath = \"../ml/models/star_tracker_model_large.keras\"\n",
    "\n",
    "bin_count = 10\n",
    "bin_max_radius = 400\n",
    "\n",
    "import os\n",
    "import sys\n",
    "import csv\n",
    "import tensorflow as tf\n",
    "import pandas as pd\n",
    "import numpy as np\n",
    "from PIL import Image\n",
    "from photutils.centroids import centroid_sources\n",
    "from astropy.stats import sigma_clipped_stats\n",
    "from astropy.io import fits\n",
    "from photutils.detection import DAOStarFinder\n",
    "from sklearn.preprocessing import LabelEncoder\n",
    "\n",
    "import matplotlib.pyplot as plt\n",
    "from astropy.visualization import SqrtStretch\n",
    "from astropy.visualization.mpl_normalize import ImageNormalize\n",
    "from photutils.aperture import CircularAperture\n",
    "\n",
    "sys.path.append(os.path.join(os.getcwd(), '..', 'algorithms'))\n",
    "import centroid as ct\n",
    "import feature_extraction as bin"
   ]
  },
  {
   "cell_type": "code",
   "execution_count": 15,
   "metadata": {},
   "outputs": [
    {
     "name": "stdout",
     "output_type": "stream",
     "text": [
      "\n",
      "Loaded Model\n",
      "\n",
      "Reshaped Bins:  [[ 2  0  3  6 10  7  4 12  6  6]]\n",
      "Max Prediction:  0.87278646 \n",
      "\n",
      "Prediction Index:  34\n",
      "Label:  4147001\n"
     ]
    }
   ],
   "source": [
    "\n",
    "np.set_printoptions(threshold=sys.maxsize)\n",
    "\n",
    "centroids = []\n",
    "bins = []\n",
    "img = Image.open(image_filepath)\n",
    "\n",
    "# Calculate centroids for each image\n",
    "centroids = ct.centroids_from_img(img)\n",
    "centroids = centroids['xcentroid', 'ycentroid']\n",
    "# print(\"Centroids: \", centroids)\n",
    "\n",
    "# Binning Feature Extraction\n",
    "bins = bin.feature_extraction_binning(centroids, 752, 480, bin_max_radius, bin_count)\n",
    "\n",
    "# loaded_model = tf.saved_model.load(model_filepath)\n",
    "loaded_model = tf.keras.models.load_model(model_filepath)\n",
    "print(\"\\nLoaded Model\\n\")\n",
    "\n",
    "bins = np.array(bins)\n",
    "reshaped_bins = bins.reshape(-1,10)\n",
    "print(\"Reshaped Bins: \", reshaped_bins)\n",
    "\n",
    "predictions = loaded_model(reshaped_bins)\n",
    "# print(\"Predictions: \", predictions)\n",
    "print(\"Max Prediction: \", np.max(predictions),\"\\n\")\n",
    "\n",
    "# sorted_predictions = np.sort(predictions) \n",
    "# print(\"Top 3 Predictions: \", sorted_predictions[-3:])\n",
    "\n",
    "# TODO: Figure out labels\n",
    "\n",
    "\n",
    "temp_y_label_source = \"../images_data/mag5_adverserial_bins/mag5_adverserial_bins.csv\"\n",
    "# TODO: read the header instead of hardcoding it\n",
    "dataframe = pd.read_csv(temp_y_label_source, header=0, names=[\"HIP\", \"bin0\", \"bin1\", \"bin2\", \"bin3\", \"bin4\", \"bin5\", \"bin6\", \"bin7\", \"bin8\", \"bin9\"])\n",
    "dataset = dataframe.values\n",
    "Y = dataset[:,0].astype(int)\n",
    "encoder = LabelEncoder()\n",
    "encoder.fit(Y)\n",
    "\n",
    "print(\"Prediction Index: \", predictions.numpy().argmax())\n",
    "print(\"Label: \", encoder.classes_[predictions.numpy().argmax()])\n",
    "\n",
    "# encoded_predictions = np.zeros(len(predictions.numpy().flatten())).astype(int)\n",
    "# encoded_predictions[predictions.numpy().argmax()] = 1\n",
    "# print(\"Encoded Predictions: \",encoded_predictions)\n",
    "\n",
    "# label = encoder.inverse_transform(encoded_predictions)\n",
    "# print(\"Label: \", label)"
   ]
  }
 ],
 "metadata": {
  "kernelspec": {
   "display_name": "Python 3",
   "language": "python",
   "name": "python3"
  },
  "language_info": {
   "codemirror_mode": {
    "name": "ipython",
    "version": 3
   },
   "file_extension": ".py",
   "mimetype": "text/x-python",
   "name": "python",
   "nbconvert_exporter": "python",
   "pygments_lexer": "ipython3",
   "version": "3.10.12"
  }
 },
 "nbformat": 4,
 "nbformat_minor": 2
}
